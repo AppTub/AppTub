{
  "nbformat": 4,
  "nbformat_minor": 0,
  "metadata": {
    "colab": {
      "private_outputs": true,
      "provenance": [],
      "gpuType": "T4"
    },
    "kernelspec": {
      "name": "python3",
      "display_name": "Python 3"
    },
    "language_info": {
      "name": "python"
    },
    "accelerator": "GPU"
  },
  "cells": [
    {
      "cell_type": "code",
      "execution_count": null,
      "metadata": {
        "id": "JrK20I32grP6",
        "collapsed": true,
        "cellView": "form"
      },
      "outputs": [],
      "source": [
        "# @title ## 1️⃣ Install\n",
        "# @markdown Install required files and dependencies.\n",
        "%%capture\n",
        "!git clone https://github.com/TencentARC/GFPGAN\n",
        "%cd GFPGAN\n",
        "!pip install -r requirements.txt\n",
        "!pip install basicsr\n",
        "!pip install facexlib\n",
        "!pip install realesrgan\n",
        "!python setup.py develop\n",
        "!wget https://github.com/TencentARC/GFPGAN/releases/download/v1.3.0/GFPGANv1.3.pth -P experiments/pretrained_models"
      ]
    },
    {
      "cell_type": "code",
      "source": [
        "# @title ## 2️⃣ Upload Video\n",
        "# @markdown Upload your **MP4** video file.\n",
        "\n",
        "# @markdown Note: We recommend uploading a video with a resolution not exceeding **480p** and a duration not exceeding **5 minutes**. Videos that exceed these specifications may take hours to upscale.\n",
        "from google.colab import files, output\n",
        "from IPython.display import HTML\n",
        "import os\n",
        "import cv2\n",
        "\n",
        "def is_valid_video(file_path):\n",
        "    try:\n",
        "        cap = cv2.VideoCapture(file_path)\n",
        "        return cap.isOpened()\n",
        "    except:\n",
        "        return False\n",
        "    finally:\n",
        "        if cap.isOpened():\n",
        "            cap.release()\n",
        "\n",
        "def print_error(message):\n",
        "    html_message = f'<pre><span style=\"color: var(--ansi-red);\">Error</span><span>: {message}</span></pre>'\n",
        "    display(HTML(html_message))\n",
        "\n",
        "uploaded = files.upload()\n",
        "\n",
        "def allowed_file(filename):\n",
        "    return '.' in filename and filename.rsplit('.', 1)[1].lower() == 'mp4'\n",
        "\n",
        "if len(uploaded) == 1:\n",
        "    uploaded_filename = list(uploaded.keys())[0]\n",
        "    if allowed_file(uploaded_filename) and is_valid_video(uploaded_filename):\n",
        "        destination_directory = '/content/sample_data'\n",
        "        new_filename = 'input.mp4'\n",
        "        new_filepath = os.path.join(destination_directory, new_filename)\n",
        "        os.rename(uploaded_filename, new_filepath)\n",
        "    else:\n",
        "        output.clear()\n",
        "        print_error('Please upload a valid MP4 video file.')\n",
        "        raise Exception()\n",
        "else:\n",
        "    output.clear()\n",
        "    print_error('Please upload only one video file at once.')\n",
        "    raise Exception()"
      ],
      "metadata": {
        "id": "1hdVZz1BvQgS",
        "cellView": "form"
      },
      "execution_count": null,
      "outputs": []
    },
    {
      "cell_type": "code",
      "source": [
        "# @title ## 3️⃣ Upscale Video\n",
        "# @markdown Upscale your video file.\n",
        "%%capture\n",
        "Scale = '2' # @param [\"2\", \"3\"]\n",
        "# @markdown Note: A 480p video file with a 5-second duration takes around 5 minutes to complete.\n",
        "\n",
        "inputFramesPath = '/content/GFPGAN/inputs/frames'\n",
        "!rm -rf $inputFramesPath\n",
        "!mkdir $inputFramesPath\n",
        "from tqdm import tqdm\n",
        "from os import path\n",
        "#import os\n",
        "vidcap = cv2.VideoCapture(\"/content/sample_data/input.mp4\")\n",
        "numberOfFrames = int(vidcap.get(cv2.CAP_PROP_FRAME_COUNT))\n",
        "fps = vidcap.get(cv2.CAP_PROP_FPS)\n",
        "print(\"FPS: \", fps, \"Frames: \", numberOfFrames)\n",
        "for frameNumber in tqdm(range(numberOfFrames)):\n",
        "    _,image = vidcap.read()\n",
        "    cv2.imwrite(path.join('/content/GFPGAN/inputs/frames', str(frameNumber).zfill(4)+'.jpg'), image)\n",
        "!rm -rf results/restored_imgs\n",
        "!python inference_gfpgan.py -i /content/GFPGAN/inputs/frames -s {Scale}"
      ],
      "metadata": {
        "id": "StDmvNEhgW5h",
        "cellView": "form"
      },
      "execution_count": null,
      "outputs": []
    },
    {
      "cell_type": "code",
      "source": [
        "# @title ## 4️⃣ Download Video\n",
        "# @markdown Download your upscaled video.\n",
        "upscaledFramesPath = '/content/GFPGAN/results/restored_imgs/'\n",
        "upscaledVideoPath = '/content/upscaled-video-vidscale-by-howover.com.mp4'\n",
        "import numpy as np\n",
        "dir_list = os.listdir(upscaledFramesPath)\n",
        "dir_list.sort()\n",
        "batch = 0\n",
        "batchSize = 600\n",
        "img_array = []\n",
        "for i in range(0, len(dir_list), batchSize):\n",
        "    start, end = i, i + batchSize\n",
        "    for filename in dir_list[start:end]:\n",
        "        filename = upscaledFramesPath + filename\n",
        "        img = cv2.imread(filename)\n",
        "        if img is not None:\n",
        "            height, width, layers = img.shape\n",
        "            size = (width, height)\n",
        "            img_array.append(img)\n",
        "out = cv2.VideoWriter(upscaledVideoPath, cv2.VideoWriter_fourcc(*'DIVX'), fps, size)\n",
        "batch = batch + 1\n",
        "for i in range(len(img_array)):\n",
        "    out.write(img_array[i])\n",
        "out.release()\n",
        "files.download(upscaledVideoPath)\n",
        "thanks = '<pre><span>Your video is being downloaded, thank you for using <b><a href=\"https://howover.com/vidscale\" target=\"_blank\" style=\"text-decoration: none;\">VidScale</a></b></span>'\n",
        "display(HTML(thanks))"
      ],
      "metadata": {
        "id": "wGKexDAS2lTO",
        "cellView": "form"
      },
      "execution_count": null,
      "outputs": []
    },
    {
      "cell_type": "markdown",
      "source": [
        "---\n",
        ">**Was VidScale helpful?** If so, you can [<button>Donate a Coffee</button>](https://buymeacoffee.com/howover)\n",
        "---\n",
        "**Credits**: This notebook is prepared, published, and maintained by [Howover](https://howover.com/vidscale), and we would like to thank the hard work of open-source developers and contributors behind the following:\n",
        "* Real-ESRGAN by xinntao for providing an open-source algorithm for video restoration;\n",
        "* BasicSR by xinntao for providing an open-source video restoration toolbox;\n",
        "* GFPGAN by xinntao for providing an open-source algorithm for face restoration;\n",
        "* FaceXLib by xinntao for providing open-source face-related functions;\n",
        "* Colab by Google for offering free GPU resources; and\n",
        "* Everyone or anyone who is directly or indirectly involved.\n",
        "\n",
        "If you still have any questions, please don't hesitate to [contact us](https://howover.com/contact).\n",
        "\n",
        "**Version**: 1.0 Beta"
      ],
      "metadata": {
        "id": "uldqiGR67uYz"
      }
    }
  ]
}